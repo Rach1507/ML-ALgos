{
 "cells": [
  {
   "cell_type": "code",
   "execution_count": 39,
   "id": "29d20642",
   "metadata": {},
   "outputs": [],
   "source": [
    "import numpy as np\n",
    "import pandas as pd"
   ]
  },
  {
   "cell_type": "markdown",
   "id": "42363784",
   "metadata": {},
   "source": [
    "# read_csv\n",
    "\n",
    "# get X,y"
   ]
  },
  {
   "cell_type": "code",
   "execution_count": 41,
   "id": "59dc32e5",
   "metadata": {},
   "outputs": [],
   "source": [
    "df = pd.read_csv(\"../weatherid3.csv\")\n",
    "\n",
    "\n",
    "X = df[['Outlook', 'Temperature']]\n",
    "y = df['Answer']\n"
   ]
  },
  {
   "cell_type": "markdown",
   "id": "6e75672d",
   "metadata": {},
   "source": [
    "# Encode X,y using labelEncoder"
   ]
  },
  {
   "cell_type": "code",
   "execution_count": 31,
   "id": "d0d9dd6e",
   "metadata": {},
   "outputs": [],
   "source": [
    "from sklearn.preprocessing import LabelEncoder\n",
    "\n",
    "X1 = X.apply(LabelEncoder().fit_transform)\n",
    "\n",
    "y1 =LabelEncoder().fit_transform(y)"
   ]
  },
  {
   "cell_type": "markdown",
   "id": "bf9ac039",
   "metadata": {},
   "source": [
    "## train test and split"
   ]
  },
  {
   "cell_type": "code",
   "execution_count": 32,
   "id": "1216c8d4",
   "metadata": {},
   "outputs": [],
   "source": [
    "from sklearn.model_selection import train_test_split\n",
    "\n",
    "X_train, X_test, y_train, y_test = train_test_split(X1, y1, test_size=0.33, random_state=42)"
   ]
  },
  {
   "cell_type": "markdown",
   "id": "548d0ac2",
   "metadata": {},
   "source": [
    "# gausianNB , fit , predict "
   ]
  },
  {
   "cell_type": "markdown",
   "id": "a1193396",
   "metadata": {},
   "source": [
    "##       nm.fit        -              X_train , y_train\n",
    "\n",
    "##       nm.predict     - X_test\n"
   ]
  },
  {
   "cell_type": "code",
   "execution_count": 33,
   "id": "1e9f297a",
   "metadata": {},
   "outputs": [],
   "source": [
    "from sklearn.naive_bayes import GaussianNB\n",
    "\n",
    "naive_model = GaussianNB()\n",
    "naive_model.fit(X_train, y_train)\n",
    "predictions = naive_model.predict(X_test)\n"
   ]
  },
  {
   "cell_type": "markdown",
   "id": "111712b6",
   "metadata": {},
   "source": [
    "# confusion matrix"
   ]
  },
  {
   "cell_type": "markdown",
   "id": "714ed44c",
   "metadata": {},
   "source": [
    "# cm - y_test, predictions"
   ]
  },
  {
   "cell_type": "code",
   "execution_count": 34,
   "id": "aee54fd5",
   "metadata": {},
   "outputs": [],
   "source": [
    "from sklearn import metrics\n",
    "\n",
    "cm = metrics.confusion_matrix(y_test, predictions)\n"
   ]
  },
  {
   "cell_type": "markdown",
   "id": "694ccf99",
   "metadata": {},
   "source": [
    "# print cm convert to dataframe "
   ]
  },
  {
   "cell_type": "code",
   "execution_count": 43,
   "id": "d2eac2a8",
   "metadata": {},
   "outputs": [
    {
     "name": "stdout",
     "output_type": "stream",
     "text": [
      "     yes   no\n",
      "yes     1   1\n",
      "no      1   2\n",
      "\n"
     ]
    }
   ],
   "source": [
    "\n",
    "\n",
    "print(pd.DataFrame(cm,index=['yes', 'no'], columns=['yes ', 'no']),end=\"\\n\\n\")"
   ]
  },
  {
   "cell_type": "markdown",
   "id": "9a30ed66",
   "metadata": {},
   "source": [
    "# classification report"
   ]
  },
  {
   "cell_type": "markdown",
   "id": "b8074569",
   "metadata": {},
   "source": [
    "# class_repost -- y_test, predictions"
   ]
  },
  {
   "cell_type": "code",
   "execution_count": 44,
   "id": "14c1b539",
   "metadata": {},
   "outputs": [
    {
     "name": "stdout",
     "output_type": "stream",
     "text": [
      "              precision    recall  f1-score   support\n",
      "\n",
      "           0       0.50      0.50      0.50         2\n",
      "           1       0.67      0.67      0.67         3\n",
      "\n",
      "    accuracy                           0.60         5\n",
      "   macro avg       0.58      0.58      0.58         5\n",
      "weighted avg       0.60      0.60      0.60         5\n",
      "\n"
     ]
    }
   ],
   "source": [
    "\n",
    "print(metrics.classification_report(y_test, predictions))"
   ]
  },
  {
   "cell_type": "markdown",
   "id": "3c7437d7",
   "metadata": {},
   "source": [
    "# Accuracy score"
   ]
  },
  {
   "cell_type": "markdown",
   "id": "588c98d1",
   "metadata": {},
   "source": [
    "# accuracy score-- y_test, predictions"
   ]
  },
  {
   "cell_type": "code",
   "execution_count": 42,
   "id": "afc760f3",
   "metadata": {},
   "outputs": [
    {
     "name": "stdout",
     "output_type": "stream",
     "text": [
      "Accuracy score is  0.6\n"
     ]
    }
   ],
   "source": [
    "print(\"Accuracy score is \",metrics.accuracy_score(y_test, predictions))"
   ]
  },
  {
   "cell_type": "code",
   "execution_count": null,
   "id": "17e36f71",
   "metadata": {},
   "outputs": [],
   "source": []
  },
  {
   "cell_type": "code",
   "execution_count": null,
   "id": "ca5acad7",
   "metadata": {},
   "outputs": [],
   "source": []
  }
 ],
 "metadata": {
  "kernelspec": {
   "display_name": "Python 3 (ipykernel)",
   "language": "python",
   "name": "python3"
  },
  "language_info": {
   "codemirror_mode": {
    "name": "ipython",
    "version": 3
   },
   "file_extension": ".py",
   "mimetype": "text/x-python",
   "name": "python",
   "nbconvert_exporter": "python",
   "pygments_lexer": "ipython3",
   "version": "3.9.7"
  }
 },
 "nbformat": 4,
 "nbformat_minor": 5
}
