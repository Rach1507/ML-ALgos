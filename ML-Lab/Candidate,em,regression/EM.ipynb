{
 "cells": [
  {
   "cell_type": "code",
   "execution_count": 27,
   "id": "974020b4",
   "metadata": {},
   "outputs": [
    {
     "name": "stdout",
     "output_type": "stream",
     "text": [
      "K-mean:  0.10526315789473684\n",
      "EM Algorithm:  0.07894736842105263\n"
     ]
    }
   ],
   "source": [
    "from sklearn import datasets\n",
    "from sklearn import metrics\n",
    "\n",
    "from sklearn.model_selection import train_test_split\n",
    "\n",
    "iris = datasets.load_iris()\n",
    "# print(iris)\n",
    "\n",
    "\n",
    "X_train,X_test,y_train,y_test = train_test_split(iris.data,iris.target)\n",
    "\n",
    "from sklearn.cluster import KMeans\n",
    "\n",
    "model =KMeans(n_clusters=3)\n",
    "model.fit(X_train,y_train)\n",
    "\n",
    "print('K-mean: ',metrics.accuracy_score(y_test,model.predict(X_test)))\n",
    "\n",
    "#-------Expectation and Maximization----------\n",
    "from sklearn.mixture import GaussianMixture\n",
    "\n",
    "model2 = GaussianMixture(n_components=3)\n",
    "model2.fit(X_train,y_train)\n",
    "\n",
    "print('EM Algorithm: ',metrics.accuracy_score(y_test,model2.predict(X_test)))\n",
    "\n",
    "\n",
    "\n"
   ]
  },
  {
   "cell_type": "code",
   "execution_count": 22,
   "id": "c84e698b",
   "metadata": {},
   "outputs": [],
   "source": [
    "from sklearn import datasets\n",
    "from sklearn import metrics\n",
    "from sklearn.model_selection import train_test_split\n",
    "from sklearn.cluster import  KMeans\n",
    "from sklearn.mixture import GaussianMixture\n",
    "\n"
   ]
  },
  {
   "cell_type": "code",
   "execution_count": 23,
   "id": "121be15a",
   "metadata": {},
   "outputs": [],
   "source": [
    "iris = datasets.load_iris()\n"
   ]
  },
  {
   "cell_type": "code",
   "execution_count": 24,
   "id": "4ae5af3e",
   "metadata": {},
   "outputs": [],
   "source": [
    "x_tr,x_te,y_tr,y_t = train_test_split(iris.data,iris.target)"
   ]
  },
  {
   "cell_type": "code",
   "execution_count": 25,
   "id": "0fd8f9cd",
   "metadata": {},
   "outputs": [
    {
     "data": {
      "text/plain": [
       "0.5"
      ]
     },
     "execution_count": 25,
     "metadata": {},
     "output_type": "execute_result"
    }
   ],
   "source": [
    "model = KMeans(n_clusters=3)\n",
    "model.fit(x_tr,y_tr)\n",
    "metrics.accuracy_score(y_t,model.predict(x_te))"
   ]
  },
  {
   "cell_type": "code",
   "execution_count": 26,
   "id": "aebed55f",
   "metadata": {},
   "outputs": [
    {
     "data": {
      "text/plain": [
       "0.13157894736842105"
      ]
     },
     "execution_count": 26,
     "metadata": {},
     "output_type": "execute_result"
    }
   ],
   "source": [
    "model = GaussianMixture(n_components=3)\n",
    "model.fit(x_tr,y_tr)\n",
    "metrics.accuracy_score(y_t,model.predict(x_te))"
   ]
  },
  {
   "cell_type": "code",
   "execution_count": null,
   "id": "b210717f",
   "metadata": {},
   "outputs": [],
   "source": []
  }
 ],
 "metadata": {
  "kernelspec": {
   "display_name": "Python 3 (ipykernel)",
   "language": "python",
   "name": "python3"
  },
  "language_info": {
   "codemirror_mode": {
    "name": "ipython",
    "version": 3
   },
   "file_extension": ".py",
   "mimetype": "text/x-python",
   "name": "python",
   "nbconvert_exporter": "python",
   "pygments_lexer": "ipython3",
   "version": "3.9.7"
  }
 },
 "nbformat": 4,
 "nbformat_minor": 5
}
