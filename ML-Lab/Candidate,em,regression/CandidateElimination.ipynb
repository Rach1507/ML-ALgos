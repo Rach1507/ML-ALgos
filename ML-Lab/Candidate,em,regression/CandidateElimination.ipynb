{
 "cells": [
  {
   "cell_type": "code",
   "execution_count": null,
   "id": "5f5975ff",
   "metadata": {},
   "outputs": [],
   "source": []
  },
  {
   "cell_type": "code",
   "execution_count": null,
   "id": "0a1176bb",
   "metadata": {},
   "outputs": [],
   "source": [
    "import numpy as np\n",
    "import pandas as pd\n",
    "import pprint"
   ]
  },
  {
   "cell_type": "code",
   "execution_count": null,
   "id": "4179a567",
   "metadata": {},
   "outputs": [],
   "source": [
    "data = pd.DataFrame(data=pd.read_csv(\"p2.csv\"))"
   ]
  },
  {
   "cell_type": "code",
   "execution_count": null,
   "id": "c52edba2",
   "metadata": {},
   "outputs": [],
   "source": [
    "data"
   ]
  },
  {
   "cell_type": "code",
   "execution_count": null,
   "id": "7c9eaf83",
   "metadata": {
    "scrolled": true
   },
   "outputs": [],
   "source": [
    "target = np.array(data.iloc[:,-1])\n",
    "target"
   ]
  },
  {
   "cell_type": "markdown",
   "id": "a915a199",
   "metadata": {},
   "source": [
    "getting the target function \n"
   ]
  },
  {
   "cell_type": "markdown",
   "id": "2d507eb3",
   "metadata": {},
   "source": [
    "all rows , last column from pd.Dataframe"
   ]
  },
  {
   "cell_type": "code",
   "execution_count": null,
   "id": "38f33485",
   "metadata": {},
   "outputs": [],
   "source": [
    "concept = np.array(data.iloc[:,:-1])"
   ]
  },
  {
   "cell_type": "markdown",
   "id": "426fe30f",
   "metadata": {},
   "source": [
    "get all rows, all columns except last one "
   ]
  },
  {
   "cell_type": "code",
   "execution_count": null,
   "id": "2d1b2f8e",
   "metadata": {},
   "outputs": [],
   "source": [
    "concept"
   ]
  },
  {
   "cell_type": "markdown",
   "id": "d37b9434",
   "metadata": {},
   "source": [
    "the rest of concept / examples stored in concepts"
   ]
  },
  {
   "cell_type": "code",
   "execution_count": null,
   "id": "8e2c9858",
   "metadata": {},
   "outputs": [],
   "source": [
    "def learn(concepts,target):\n",
    "    specific_h=concepts[0].copy()\n",
    "    #it is the same as the first postive example ,TODO check for one with negetive example\n",
    "#     print(specific_h)\n",
    "    \n",
    "    print()\n",
    "    \n",
    "    general_h = [[\"?\" for i in range(len(specific_h))]  for i in range(len(specific_h))]\n",
    "#     pprint.pprint(general_h)\n",
    "    \n",
    "    print()\n",
    "    \n",
    "    for i, h in enumerate(concepts):\n",
    "#         print(i,h,sep=\" \")\n",
    "        if target[i]==\"yes\":\n",
    "            # for positive instances\n",
    "            \n",
    "            for x in range(len(specific_h)):\n",
    "                if h[x] != specific_h[x]:\n",
    "                    specific_h[x]=\"?\"\n",
    "        else:\n",
    "            \n",
    "            for x in range(len(specific_h)):\n",
    "                if h[x] != specific_h[x]:\n",
    "                    general_h[x][x]=specific_h[x]\n",
    "                    \n",
    "    pprint.pprint(general_h)\n",
    "                    \n",
    "#     indices = [i for i, val in enumerate(general_h) if val == ['?', '?', '?', '?', '?','?']]\n",
    "    indices = []\n",
    "    \n",
    "    for i, val in enumerate(general_h):\n",
    "        if val == ['?', '?', '?', '?', '?','?']:\n",
    "            indices.append(i)\n",
    "\n",
    "    for i in indices:\n",
    "        general_h.remove(['?', '?', '?', '?', '?','?'])\n",
    "            \n",
    "\n",
    "    return specific_h, general_h  "
   ]
  },
  {
   "cell_type": "code",
   "execution_count": null,
   "id": "b88a7a48",
   "metadata": {},
   "outputs": [],
   "source": []
  },
  {
   "cell_type": "code",
   "execution_count": null,
   "id": "d61e348b",
   "metadata": {},
   "outputs": [],
   "source": [
    "s_final, g_final = learn(concept, target)\n",
    "print()\n",
    "print(\"Final S:\", s_final, end=\"\\n\")\n",
    "print()\n",
    "print(\"Final G:\",end=\"\\n\")\n",
    "pprint.pprint(g_final)\n",
    "# data.head() \n"
   ]
  },
  {
   "cell_type": "code",
   "execution_count": null,
   "id": "8633b193",
   "metadata": {},
   "outputs": [],
   "source": [
    "def learn(concepts, target):\n",
    "    "
   ]
  },
  {
   "cell_type": "code",
   "execution_count": null,
   "id": "69ce7b0c",
   "metadata": {},
   "outputs": [],
   "source": [
    "import numpy as np\n",
    "import pandas as pd\n",
    "import pprint\n",
    "\n",
    "data = pd.DataFrame(data=pd.read_csv(\"p2.csv\"))\n",
    "target = np.array(data.iloc[:,-1])\n",
    "concept = np.array(data.iloc[:,:-1])\n",
    "\n",
    "def learn(concepts,target):\n",
    "    specific_h=concepts[0].copy()\n",
    "\n",
    "    general_h = [[\"?\" for i in range(len(specific_h))]  for i in range(len(specific_h))]\n",
    "\n",
    "    \n",
    "    print()\n",
    "    \n",
    "    for i, h in enumerate(concepts):\n",
    "\n",
    "        if target[i]==\"yes\":\n",
    "\n",
    "            \n",
    "            for x in range(len(specific_h)):\n",
    "                if h[x] != specific_h[x]:\n",
    "                    specific_h[x]=\"?\"\n",
    "       \n",
    "        else:\n",
    "            \n",
    "            for x in range(len(specific_h)):\n",
    "                if h[x] != specific_h[x]:\n",
    "                    general_h[x][x]=specific_h[x]\n",
    "                    \n",
    "    pprint.pprint(general_h)\n",
    "                    \n",
    "    indices = []\n",
    "    \n",
    "    for i, val in enumerate(general_h):\n",
    "        if val == ['?', '?', '?', '?', '?','?']:\n",
    "            indices.append(i)\n",
    "\n",
    "    for i in indices:\n",
    "        general_h.remove(['?', '?', '?', '?', '?','?'])\n",
    "            \n",
    "\n",
    "    return specific_h, general_h  \n",
    "\n",
    "\n",
    "s_final, g_final = learn(concept, target)\n",
    "print()\n",
    "print(\"Final S:\", s_final, end=\"\\n\")\n",
    "print()\n",
    "print(\"Final G:\",end=\"\\n\")\n",
    "pprint.pprint(g_final)\n",
    "# data.head() \n"
   ]
  },
  {
   "cell_type": "code",
   "execution_count": null,
   "id": "6fb60287",
   "metadata": {},
   "outputs": [],
   "source": [
    "import pandas as pd\n",
    "import numpy as np\n",
    "\n",
    "data = pd.DataFrame(data=pd.read_csv('p2.csv'))\n",
    "\n",
    "\n",
    "target=np.array(data.iloc[:,-1]) \n",
    "concepts = np.array(data.iloc[:,:-1]) \n",
    "\n",
    "\n",
    "\n",
    "def learn(concepts ,target):\n",
    "    \n",
    "    specific_h=concepts[0].copy()\n",
    "    \n",
    "    general_h =[['?' for i in range(len(specific_h))] for i in range(len(specific_h)) ]\n",
    "    \n",
    "    for i,h in enumerate(concepts):\n",
    "        \n",
    "    \n",
    "        if target[i]== \"yes\":\n",
    "            \n",
    "            for x in range(len(specific_h)):\n",
    "                \n",
    "                if h[x]!=specific_h[x]:\n",
    "                    specific_h[x]='?'\n",
    "                \n",
    "        else:\n",
    "            for x in range(len(specific_h)):\n",
    "                \n",
    "                if h[x]!=specific_h[x]:\n",
    "                    general_h[x][x]= specific_h[x]\n",
    "                \n",
    "                \n",
    "    indices = []\n",
    "        \n",
    "    for i,val in enumerate(general_h):\n",
    "            if val == ['?','?','?','?','?','?']:\n",
    "                indices.append(i)\n",
    "                \n",
    "    for i in indices:\n",
    "            general_h.remove(['?', '?', '?', '?', '?','?'])\n",
    "                \n",
    "    return specific_h,general_h\n",
    "            \n",
    "        \n",
    "        \n",
    "        \n",
    "\n",
    "s_final , g_final = learn(concepts ,target)\n",
    "\n",
    "print(s_final)\n",
    "\n",
    "g_final\n",
    "\n"
   ]
  },
  {
   "cell_type": "code",
   "execution_count": null,
   "id": "cb4a8980",
   "metadata": {},
   "outputs": [],
   "source": []
  },
  {
   "cell_type": "code",
   "execution_count": null,
   "id": "2d10d769",
   "metadata": {},
   "outputs": [],
   "source": []
  },
  {
   "cell_type": "code",
   "execution_count": null,
   "id": "911a6ef7",
   "metadata": {},
   "outputs": [],
   "source": []
  }
 ],
 "metadata": {
  "kernelspec": {
   "display_name": "Python 3 (ipykernel)",
   "language": "python",
   "name": "python3"
  },
  "language_info": {
   "codemirror_mode": {
    "name": "ipython",
    "version": 3
   },
   "file_extension": ".py",
   "mimetype": "text/x-python",
   "name": "python",
   "nbconvert_exporter": "python",
   "pygments_lexer": "ipython3",
   "version": "3.9.7"
  }
 },
 "nbformat": 4,
 "nbformat_minor": 5
}
