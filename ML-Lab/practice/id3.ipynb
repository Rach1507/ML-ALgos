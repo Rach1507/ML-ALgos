{
 "cells": [
  {
   "cell_type": "code",
   "execution_count": 15,
   "id": "c6efd91e",
   "metadata": {},
   "outputs": [],
   "source": [
    "import pandas as pd\n",
    "import numpy as np\n",
    "import pprint\n",
    "from collections import Counter\n"
   ]
  },
  {
   "cell_type": "code",
   "execution_count": 16,
   "id": "ac5655ad",
   "metadata": {},
   "outputs": [],
   "source": [
    "df = pd.DataFrame(data = pd.read_csv('weatherid3.csv'))\n"
   ]
  },
  {
   "cell_type": "code",
   "execution_count": 17,
   "id": "433fd762",
   "metadata": {},
   "outputs": [],
   "source": [
    "def entropy(probs):\n",
    "    import math\n",
    "    return sum([-prob*math.log(prob,2) for prob in probs])"
   ]
  },
  {
   "cell_type": "code",
   "execution_count": 18,
   "id": "b6f511ea",
   "metadata": {},
   "outputs": [],
   "source": [
    "def entropy_of_list(a_list):\n",
    "    \n",
    "    \n",
    "    cnt = Counter(x for x in a_list)\n",
    "    \n",
    "#     print(\"Yes and no classes are \",a_list.name,cnt)\n",
    "    total_instances = len(a_list)*1.0\n",
    "    \n",
    "    probs=[ x/total_instances  for x in cnt.values() ]\n",
    "    return entropy(probs)   "
   ]
  },
  {
   "cell_type": "markdown",
   "id": "9d7d578e",
   "metadata": {},
   "source": [
    "A Counter is a subclass of dict. Therefore it is an unordered collection where elements and their respective count are stored as a dictionary. This is equivalent to a bag or multiset of other languages.\n",
    "\n",
    "\n",
    "\n",
    "Syntax :\n",
    "\n",
    "class collections.Counter([iterable-or-mapping])\n",
    "\n",
    "\n",
    "\n",
    "from collections import Counter\n",
    "  \n",
    "\n",
    "print(Counter(['B','B','A','B','C','A','B','B','A','C']))\n",
    "  \n",
    "\n",
    "print(Counter({'A':3, 'B':5, 'C':2}))\n",
    "\n",
    "print(Counter(A=3, B=5, C=2))\n",
    "\n",
    "\n",
    "Output of all the three lines is same :\n",
    "\n",
    "Counter({'B': 5, 'A': 3, 'C': 2})\n",
    "Counter({'B': 5, 'A': 3, 'C': 2})\n",
    "Counter({'B': 5, 'A': 3, 'C': 2})"
   ]
  },
  {
   "cell_type": "code",
   "execution_count": 19,
   "id": "2c01d960",
   "metadata": {},
   "outputs": [
    {
     "data": {
      "text/plain": [
       "0.9402859586706309"
      ]
     },
     "execution_count": 19,
     "metadata": {},
     "output_type": "execute_result"
    }
   ],
   "source": [
    "entropy_of_list(df['Answer'])"
   ]
  },
  {
   "cell_type": "code",
   "execution_count": 20,
   "id": "167208bb",
   "metadata": {
    "scrolled": true
   },
   "outputs": [],
   "source": [
    "def information_gain(df,split_attr,target_attr,trace=0):\n",
    "    \n",
    "    df_split = df.groupby(split_attr)\n",
    "   \n",
    "    nobs = len(df.index)*1.0\n",
    "    \n",
    "    \n",
    "    #calculate info gain\n",
    "    \n",
    "    \n",
    "    df_agg_ent = df_split.agg({target_attr : [entropy_of_list, lambda x:len(x)/nobs]})\n",
    "    \n",
    "    df_agg_ent.columns =['Entropy','PropObservations']\n",
    "    \n",
    "    \n",
    "    new_entropy = sum(df_agg_ent['Entropy'] * df_agg_ent['PropObservations']) \n",
    "    old_entropy = entropy_of_list(df[target_attr])\n",
    "    return old_entropy-new_entropy\n",
    "\n",
    "\n",
    "    \n",
    "    \n",
    "    \n",
    "    "
   ]
  },
  {
   "cell_type": "code",
   "execution_count": 21,
   "id": "78316758",
   "metadata": {},
   "outputs": [],
   "source": [
    "\n",
    "def id3(df,target_attr,attr_list,default_class=None):\n",
    "    \n",
    "\n",
    "    cnt =Counter(x for x in df[target_attr])\n",
    "    \n",
    "    if len(cnt) == 1:\n",
    "        return next(iter(cnt))\n",
    "    elif df.empty or (not attr_list):\n",
    "        return default_class\n",
    "    else:\n",
    "        default_class = max(cnt.keys()) # most common\n",
    "        \n",
    "        gain_of_all = [information_gain(df, attr, target_attr) for attr in attr_list]\n",
    "        \n",
    "        \n",
    "        \n",
    "        index_of_max = gain_of_all.index(max(gain_of_all))\n",
    "        \n",
    "        best_attr = attr_list[index_of_max]\n",
    "        \n",
    "        tree={best_attr:{}}\n",
    "        \n",
    "        remaining_attrs = attr_list.copy()\n",
    "        remaining_attrs.remove(best_attr)\n",
    "\n",
    "        for attr_val, data_subset in df.groupby(best_attr):\n",
    "            tree[best_attr][attr_val]= id3(data_subset,target_attr,remaining_attrs,default_class)\n",
    "                        \n",
    "    \n",
    "    return tree\n",
    "\n",
    "\n",
    "\n",
    "\n",
    "\n",
    "\n",
    "\n"
   ]
  },
  {
   "cell_type": "code",
   "execution_count": 22,
   "id": "135f18a3",
   "metadata": {
    "scrolled": false
   },
   "outputs": [
    {
     "name": "stdout",
     "output_type": "stream",
     "text": [
      "List of Attributes are ['Outlook', 'Temperature', 'Humidity', 'Wind', 'Answer']\n",
      "Predicting Attributes are ['Outlook', 'Temperature', 'Humidity', 'Wind']\n",
      "\n",
      "Resultant decision tree is :\n",
      "{'Outlook': {'overcast': 'yes',\n",
      "             'rain': {'Wind': {'strong': 'no', 'weak': 'yes'}},\n",
      "             'sunny': {'Humidity': {'high': 'no', 'normal': 'yes'}}}}\n"
     ]
    }
   ],
   "source": [
    "attr_list= list(df.columns)\n",
    "print(\"List of Attributes are\" , attr_list)\n",
    "attr_list.remove('Answer')\n",
    "\n",
    "print(\"Predicting Attributes are\" , attr_list)\n",
    "tree=id3(df, 'Answer', attr_list)\n",
    "print()\n",
    "print(\"Resultant decision tree is :\")\n",
    "pprint.pprint(tree)"
   ]
  },
  {
   "cell_type": "code",
   "execution_count": null,
   "id": "006a5620",
   "metadata": {},
   "outputs": [],
   "source": []
  },
  {
   "cell_type": "code",
   "execution_count": null,
   "id": "97ddd6c7",
   "metadata": {},
   "outputs": [],
   "source": []
  }
 ],
 "metadata": {
  "kernelspec": {
   "display_name": "Python 3 (ipykernel)",
   "language": "python",
   "name": "python3"
  },
  "language_info": {
   "codemirror_mode": {
    "name": "ipython",
    "version": 3
   },
   "file_extension": ".py",
   "mimetype": "text/x-python",
   "name": "python",
   "nbconvert_exporter": "python",
   "pygments_lexer": "ipython3",
   "version": "3.9.7"
  }
 },
 "nbformat": 4,
 "nbformat_minor": 5
}
