{
 "cells": [
  {
   "cell_type": "code",
   "execution_count": 19,
   "id": "c268a42b",
   "metadata": {},
   "outputs": [],
   "source": [
    "import pandas as pd\n",
    "import numpy as np\n",
    "from collections import Counter\n",
    "import pprint"
   ]
  },
  {
   "cell_type": "code",
   "execution_count": null,
   "id": "eac3ef66",
   "metadata": {},
   "outputs": [],
   "source": []
  },
  {
   "cell_type": "code",
   "execution_count": 20,
   "id": "a82d89dd",
   "metadata": {},
   "outputs": [],
   "source": [
    "df = pd.DataFrame(data=pd.read_csv('weatherid3.csv'))\n"
   ]
  },
  {
   "cell_type": "code",
   "execution_count": 35,
   "id": "b4fdb6a6",
   "metadata": {},
   "outputs": [],
   "source": [
    "def entropy(probs):\n",
    "    import math\n",
    "    return sum([-prob*math.log(prob,2) for prob in probs])\n"
   ]
  },
  {
   "cell_type": "code",
   "execution_count": 36,
   "id": "fcb7fb6e",
   "metadata": {},
   "outputs": [
    {
     "name": "stdout",
     "output_type": "stream",
     "text": [
      "0.9402859586706309\n"
     ]
    }
   ],
   "source": [
    "def entropy_of_list(a_list):\n",
    "    cnt = Counter(x for x in a_list)\n",
    "    no = len(a_list)*1.0 \n",
    "    probs = [x/no for x in cnt.values()]\n",
    "    return entropy(probs)\n",
    "\n",
    "print(entropy_of_list(df['Answer']))"
   ]
  },
  {
   "cell_type": "code",
   "execution_count": 29,
   "id": "a69cde31",
   "metadata": {},
   "outputs": [],
   "source": [
    "def info_gain(df, split_attr,target_attr,trace=0 ):\n",
    "    \n",
    "    df_split = df.groupby(split_attr)\n",
    "    \n",
    "    nobs= len(df.index)*1.0\n",
    "    \n",
    "    df_agg_ent = df_split.agg({target_attr:[entropy_of_list,lambda x: len(x)/nobs]})\n",
    "    df_agg_ent.columns = ['Entropy','PropObservations']\n",
    "    \n",
    "    new_entropy = sum(df_agg_ent['Entropy']*df_agg_ent['PropObservations'])\n",
    "    old_entropy = entropy_of_list(df[target_attr])\n",
    "    \n",
    "    return old_entropy - new_entropy\n"
   ]
  },
  {
   "cell_type": "code",
   "execution_count": 30,
   "id": "3aa6a4aa",
   "metadata": {},
   "outputs": [],
   "source": [
    "def id3(df,target_attr,attr_list ,defualt_class=None ):\n",
    "    cnt =  Counter(x for x in df[target_attr])\n",
    "    \n",
    "    if len(cnt)==1:\n",
    "        return next(iter(cnt))\n",
    "    elif df.empty or (not attr_list):\n",
    "        return defualt_class\n",
    "    else:\n",
    "        defualt_class = max(cnt.keys())\n",
    "        \n",
    "        \n",
    "        gain_of_all = [info_gain(df , attr, target_attr) for attr in attr_list]\n",
    "        index_of_max= gain_of_all.index(max(gain_of_all))\n",
    "        best_attr = attr_list[index_of_max]\n",
    "        tree = {best_attr : {}}\n",
    "        \n",
    "        remianing_attr = attr_list.copy()\n",
    "        remianing_attr.remove(best_attr)\n",
    "        \n",
    "        for attr_value,subset in df.groupby(best_attr):\n",
    "            tree[best_attr][attr_value]=id3(subset,target_attr,remianing_attr,defualt_class)\n",
    "            \n",
    "        return tree\n",
    "        \n",
    "        "
   ]
  },
  {
   "cell_type": "code",
   "execution_count": 31,
   "id": "887e0301",
   "metadata": {},
   "outputs": [
    {
     "name": "stdout",
     "output_type": "stream",
     "text": [
      "{'Outlook': {'overcast': 'yes',\n",
      "             'rain': {'Wind': {'strong': 'no', 'weak': 'yes'}},\n",
      "             'sunny': {'Humidity': {'high': 'no', 'normal': 'yes'}}}}\n"
     ]
    }
   ],
   "source": [
    "attr_list = list(df.columns)\n",
    "attr_list.remove('Answer')\n",
    "pprint.pprint(id3(df,'Answer',attr_list))"
   ]
  },
  {
   "cell_type": "code",
   "execution_count": null,
   "id": "46090bc0",
   "metadata": {},
   "outputs": [],
   "source": []
  }
 ],
 "metadata": {
  "kernelspec": {
   "display_name": "Python 3 (ipykernel)",
   "language": "python",
   "name": "python3"
  },
  "language_info": {
   "codemirror_mode": {
    "name": "ipython",
    "version": 3
   },
   "file_extension": ".py",
   "mimetype": "text/x-python",
   "name": "python",
   "nbconvert_exporter": "python",
   "pygments_lexer": "ipython3",
   "version": "3.9.7"
  }
 },
 "nbformat": 4,
 "nbformat_minor": 5
}
