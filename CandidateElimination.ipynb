{
 "cells": [
  {
   "cell_type": "code",
   "execution_count": null,
   "id": "5f5975ff",
   "metadata": {},
   "outputs": [],
   "source": []
  },
  {
   "cell_type": "code",
   "execution_count": 5,
   "id": "0a1176bb",
   "metadata": {},
   "outputs": [],
   "source": [
    "import numpy as np\n",
    "import pandas as pd\n",
    "import pprint"
   ]
  },
  {
   "cell_type": "code",
   "execution_count": 6,
   "id": "4179a567",
   "metadata": {},
   "outputs": [],
   "source": [
    "data = pd.DataFrame(data=pd.read_csv(\"p2.csv\"))"
   ]
  },
  {
   "cell_type": "code",
   "execution_count": 7,
   "id": "c52edba2",
   "metadata": {},
   "outputs": [
    {
     "data": {
      "text/html": [
       "<div>\n",
       "<style scoped>\n",
       "    .dataframe tbody tr th:only-of-type {\n",
       "        vertical-align: middle;\n",
       "    }\n",
       "\n",
       "    .dataframe tbody tr th {\n",
       "        vertical-align: top;\n",
       "    }\n",
       "\n",
       "    .dataframe thead th {\n",
       "        text-align: right;\n",
       "    }\n",
       "</style>\n",
       "<table border=\"1\" class=\"dataframe\">\n",
       "  <thead>\n",
       "    <tr style=\"text-align: right;\">\n",
       "      <th></th>\n",
       "      <th>sky</th>\n",
       "      <th>airtemp</th>\n",
       "      <th>humidity</th>\n",
       "      <th>wind</th>\n",
       "      <th>water</th>\n",
       "      <th>forcast</th>\n",
       "      <th>enjoysport</th>\n",
       "    </tr>\n",
       "  </thead>\n",
       "  <tbody>\n",
       "    <tr>\n",
       "      <th>0</th>\n",
       "      <td>sunny</td>\n",
       "      <td>warm</td>\n",
       "      <td>normal</td>\n",
       "      <td>strong</td>\n",
       "      <td>warm</td>\n",
       "      <td>same</td>\n",
       "      <td>yes</td>\n",
       "    </tr>\n",
       "    <tr>\n",
       "      <th>1</th>\n",
       "      <td>sunny</td>\n",
       "      <td>warm</td>\n",
       "      <td>high</td>\n",
       "      <td>strong</td>\n",
       "      <td>warm</td>\n",
       "      <td>same</td>\n",
       "      <td>yes</td>\n",
       "    </tr>\n",
       "    <tr>\n",
       "      <th>2</th>\n",
       "      <td>rainy</td>\n",
       "      <td>cold</td>\n",
       "      <td>high</td>\n",
       "      <td>strong</td>\n",
       "      <td>warm</td>\n",
       "      <td>change</td>\n",
       "      <td>no</td>\n",
       "    </tr>\n",
       "    <tr>\n",
       "      <th>3</th>\n",
       "      <td>sunny</td>\n",
       "      <td>warm</td>\n",
       "      <td>high</td>\n",
       "      <td>strong</td>\n",
       "      <td>cool</td>\n",
       "      <td>change</td>\n",
       "      <td>yes</td>\n",
       "    </tr>\n",
       "  </tbody>\n",
       "</table>\n",
       "</div>"
      ],
      "text/plain": [
       "     sky airtemp humidity    wind water forcast enjoysport\n",
       "0  sunny    warm   normal  strong  warm    same        yes\n",
       "1  sunny    warm     high  strong  warm    same        yes\n",
       "2  rainy    cold     high  strong  warm  change         no\n",
       "3  sunny    warm     high  strong  cool  change        yes"
      ]
     },
     "execution_count": 7,
     "metadata": {},
     "output_type": "execute_result"
    }
   ],
   "source": [
    "data"
   ]
  },
  {
   "cell_type": "code",
   "execution_count": 8,
   "id": "7c9eaf83",
   "metadata": {
    "scrolled": true
   },
   "outputs": [
    {
     "data": {
      "text/plain": [
       "array(['yes', 'yes', 'no', 'yes'], dtype=object)"
      ]
     },
     "execution_count": 8,
     "metadata": {},
     "output_type": "execute_result"
    }
   ],
   "source": [
    "target = np.array(data.iloc[:,-1])\n",
    "target"
   ]
  },
  {
   "cell_type": "markdown",
   "id": "a915a199",
   "metadata": {},
   "source": [
    "getting the target function \n"
   ]
  },
  {
   "cell_type": "markdown",
   "id": "2d507eb3",
   "metadata": {},
   "source": [
    "all rows , last column from pd.Dataframe"
   ]
  },
  {
   "cell_type": "code",
   "execution_count": 9,
   "id": "38f33485",
   "metadata": {},
   "outputs": [],
   "source": [
    "concept = np.array(data.iloc[:,:-1])"
   ]
  },
  {
   "cell_type": "markdown",
   "id": "426fe30f",
   "metadata": {},
   "source": [
    "get all rows, all columns except last one "
   ]
  },
  {
   "cell_type": "code",
   "execution_count": 10,
   "id": "2d1b2f8e",
   "metadata": {},
   "outputs": [
    {
     "data": {
      "text/plain": [
       "array([['sunny', 'warm', 'normal', 'strong', 'warm', 'same'],\n",
       "       ['sunny', 'warm', 'high', 'strong', 'warm', 'same'],\n",
       "       ['rainy', 'cold', 'high', 'strong', 'warm', 'change'],\n",
       "       ['sunny', 'warm', 'high', 'strong', 'cool', 'change']],\n",
       "      dtype=object)"
      ]
     },
     "execution_count": 10,
     "metadata": {},
     "output_type": "execute_result"
    }
   ],
   "source": [
    "concept"
   ]
  },
  {
   "cell_type": "markdown",
   "id": "d37b9434",
   "metadata": {},
   "source": [
    "the rest of concept / examples stored in concepts"
   ]
  },
  {
   "cell_type": "code",
   "execution_count": 13,
   "id": "8e2c9858",
   "metadata": {},
   "outputs": [],
   "source": [
    "def learn(concepts,target):\n",
    "    specific_h=concepts[0].copy()\n",
    "    #it is the same as the first postive example ,TODO check for one with negetive example\n",
    "#     print(specific_h)\n",
    "    \n",
    "    print()\n",
    "    \n",
    "    general_h = [[\"?\" for i in range(len(specific_h))]  for i in range(len(specific_h))]\n",
    "#     pprint.pprint(general_h)\n",
    "    \n",
    "    print()\n",
    "    \n",
    "    for i, h in enumerate(concepts):\n",
    "#         print(i,h,sep=\" \")\n",
    "        if(target[i]==\"yes\"):\n",
    "            # for positive instances\n",
    "            \n",
    "            for x in range(len(specific_h)):\n",
    "                if h[x] != specific_h[x]:\n",
    "                    specific_h[x]=\"?\"\n",
    "        else:\n",
    "            \n",
    "            for x in range(len(specific_h)):\n",
    "                if h[x] != specific_h[x]:\n",
    "                    general_h[x][x]=specific_h[x]\n",
    "                    \n",
    "    pprint.pprint(general_h)\n",
    "                    \n",
    "#     indices = [i for i, val in enumerate(general_h) if val == ['?', '?', '?', '?', '?','?']]\n",
    "    indices = []\n",
    "    \n",
    "    for i, val in enumerate(general_h):\n",
    "        if val == ['?', '?', '?', '?', '?','?']:\n",
    "            indices.append(i)\n",
    "\n",
    "    for i in indices:\n",
    "        general_h.remove(['?', '?', '?', '?', '?','?'])\n",
    "            \n",
    "\n",
    "    return specific_h, general_h  "
   ]
  },
  {
   "cell_type": "code",
   "execution_count": null,
   "id": "b88a7a48",
   "metadata": {},
   "outputs": [],
   "source": []
  },
  {
   "cell_type": "code",
   "execution_count": 14,
   "id": "d61e348b",
   "metadata": {},
   "outputs": [
    {
     "name": "stdout",
     "output_type": "stream",
     "text": [
      "\n",
      "\n",
      "[['sunny', '?', '?', '?', '?', '?'],\n",
      " ['?', 'warm', '?', '?', '?', '?'],\n",
      " ['?', '?', '?', '?', '?', '?'],\n",
      " ['?', '?', '?', '?', '?', '?'],\n",
      " ['?', '?', '?', '?', '?', '?'],\n",
      " ['?', '?', '?', '?', '?', 'same']]\n",
      "\n",
      "Final S: ['sunny' 'warm' '?' 'strong' '?' '?']\n",
      "\n",
      "Final G:\n",
      "[['sunny', '?', '?', '?', '?', '?'],\n",
      " ['?', 'warm', '?', '?', '?', '?'],\n",
      " ['?', '?', '?', '?', '?', 'same']]\n"
     ]
    }
   ],
   "source": [
    "s_final, g_final = learn(concept, target)\n",
    "print()\n",
    "print(\"Final S:\", s_final, end=\"\\n\")\n",
    "print()\n",
    "print(\"Final G:\",end=\"\\n\")\n",
    "pprint.pprint(g_final)\n",
    "# data.head() \n"
   ]
  },
  {
   "cell_type": "code",
   "execution_count": null,
   "id": "8633b193",
   "metadata": {},
   "outputs": [],
   "source": []
  },
  {
   "cell_type": "code",
   "execution_count": null,
   "id": "69ce7b0c",
   "metadata": {},
   "outputs": [],
   "source": []
  },
  {
   "cell_type": "code",
   "execution_count": null,
   "id": "6fb60287",
   "metadata": {},
   "outputs": [],
   "source": []
  }
 ],
 "metadata": {
  "kernelspec": {
   "display_name": "Python 3 (ipykernel)",
   "language": "python",
   "name": "python3"
  },
  "language_info": {
   "codemirror_mode": {
    "name": "ipython",
    "version": 3
   },
   "file_extension": ".py",
   "mimetype": "text/x-python",
   "name": "python",
   "nbconvert_exporter": "python",
   "pygments_lexer": "ipython3",
   "version": "3.9.7"
  }
 },
 "nbformat": 4,
 "nbformat_minor": 5
}
